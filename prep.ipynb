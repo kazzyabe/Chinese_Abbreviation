{
 "cells": [
  {
   "cell_type": "code",
   "execution_count": 1,
   "metadata": {},
   "outputs": [],
   "source": [
    "f_name = \"data/Chinese-abbreviation-dataset/dev_set.txt\"\n",
    "f = open(f_name,'r')\n",
    "dev = f.read()\n",
    "f.close()"
   ]
  },
  {
   "cell_type": "code",
   "execution_count": 2,
   "metadata": {},
   "outputs": [],
   "source": [
    "f_name = \"data/Chinese-abbreviation-dataset/train_set.txt\"\n",
    "f = open(f_name,'r')\n",
    "train = f.read()\n",
    "f.close()"
   ]
  },
  {
   "cell_type": "code",
   "execution_count": 3,
   "metadata": {},
   "outputs": [],
   "source": [
    "f_name = \"data/Chinese-abbreviation-dataset/test_set.txt\"\n",
    "f = open(f_name,'r')\n",
    "test = f.read()\n",
    "f.close()"
   ]
  },
  {
   "cell_type": "code",
   "execution_count": 4,
   "metadata": {},
   "outputs": [
    {
     "data": {
      "text/plain": [
       "'军政民: 军队/n 政府/n 人民/n \\n偏科: 偏重/v 某些/r 学科/n \\nn: 在/p 同等/b 条件/n 下/f \\n同盟社: 日本/ns 同盟/n 通信/vn 社/n \\n影业: 电影/n 业'"
      ]
     },
     "execution_count": 4,
     "metadata": {},
     "output_type": "execute_result"
    }
   ],
   "source": [
    "dev[:100]"
   ]
  },
  {
   "cell_type": "code",
   "execution_count": 5,
   "metadata": {},
   "outputs": [
    {
     "data": {
      "text/plain": [
       "['军政民: 军队/n 政府/n 人民/n ',\n",
       " '偏科: 偏重/v 某些/r 学科/n ',\n",
       " 'n: 在/p 同等/b 条件/n 下/f ',\n",
       " '同盟社: 日本/ns 同盟/n 通信/vn 社/n ',\n",
       " '影业: 电影/n 业/g ',\n",
       " '旱涝: 旱灾/n 和/cc 涝灾/n ',\n",
       " '统配物资: 国家/n 统一分/ad 配/v 物资/n ',\n",
       " 'n: 不结盟/vn 国家/n ',\n",
       " '广电报: 广播电视/n 报/n ',\n",
       " 'n: 叶卡捷琳堡/ns ']"
      ]
     },
     "execution_count": 5,
     "metadata": {},
     "output_type": "execute_result"
    }
   ],
   "source": [
    "dev = dev.split('\\n')\n",
    "dev[:10]"
   ]
  },
  {
   "cell_type": "code",
   "execution_count": 6,
   "metadata": {},
   "outputs": [],
   "source": [
    "train = train.split('\\n')\n",
    "test = test.split('\\n')"
   ]
  },
  {
   "cell_type": "code",
   "execution_count": 7,
   "metadata": {},
   "outputs": [
    {
     "data": {
      "text/plain": [
       "[['军政民', '军队/n 政府/n 人民/n '],\n",
       " ['偏科', '偏重/v 某些/r 学科/n '],\n",
       " ['n', '在/p 同等/b 条件/n 下/f '],\n",
       " ['同盟社', '日本/ns 同盟/n 通信/vn 社/n '],\n",
       " ['影业', '电影/n 业/g '],\n",
       " ['旱涝', '旱灾/n 和/cc 涝灾/n '],\n",
       " ['统配物资', '国家/n 统一分/ad 配/v 物资/n '],\n",
       " ['n', '不结盟/vn 国家/n '],\n",
       " ['广电报', '广播电视/n 报/n '],\n",
       " ['n', '叶卡捷琳堡/ns ']]"
      ]
     },
     "execution_count": 7,
     "metadata": {},
     "output_type": "execute_result"
    }
   ],
   "source": [
    "abb_ori = []\n",
    "for d in dev:\n",
    "    abb_ori.append(d.split(': '))\n",
    "abb_ori[:10]"
   ]
  },
  {
   "cell_type": "code",
   "execution_count": 8,
   "metadata": {},
   "outputs": [],
   "source": [
    "AbbOri_tr = []\n",
    "for d in train:\n",
    "    AbbOri_tr.append(d.split(': '))\n",
    "    \n",
    "AbbOri_te = []\n",
    "for d in test:\n",
    "    AbbOri_te.append(d.split(': '))"
   ]
  },
  {
   "cell_type": "code",
   "execution_count": 9,
   "metadata": {},
   "outputs": [
    {
     "data": {
      "text/plain": [
       "['']"
      ]
     },
     "execution_count": 9,
     "metadata": {},
     "output_type": "execute_result"
    }
   ],
   "source": [
    "abb_ori[-1]"
   ]
  },
  {
   "cell_type": "code",
   "execution_count": 10,
   "metadata": {},
   "outputs": [
    {
     "data": {
      "text/plain": [
       "['澳航', '澳大利亚/ns 航空公司/n ']"
      ]
     },
     "execution_count": 10,
     "metadata": {},
     "output_type": "execute_result"
    }
   ],
   "source": [
    "abb_ori=abb_ori[:-1]\n",
    "abb_ori[-1]"
   ]
  },
  {
   "cell_type": "code",
   "execution_count": 11,
   "metadata": {},
   "outputs": [
    {
     "data": {
      "text/plain": [
       "[['军政民', '军队政府人民'],\n",
       " ['偏科', '偏重某些学科'],\n",
       " ['n', '在同等条件下'],\n",
       " ['同盟社', '日本同盟通信社'],\n",
       " ['影业', '电影业'],\n",
       " ['旱涝', '旱灾和涝灾'],\n",
       " ['统配物资', '国家统一分配物资'],\n",
       " ['n', '不结盟国家'],\n",
       " ['广电报', '广播电视报'],\n",
       " ['n', '叶卡捷琳堡']]"
      ]
     },
     "execution_count": 11,
     "metadata": {},
     "output_type": "execute_result"
    }
   ],
   "source": [
    "def cleaning(t):\n",
    "    '''removing pos'''\n",
    "    tmp = ''\n",
    "    flag = False\n",
    "    for c in t:\n",
    "        if flag:\n",
    "            if c == ' ':\n",
    "                flag = False\n",
    "        else:\n",
    "            if c == '/':\n",
    "                flag=True\n",
    "            else:\n",
    "                tmp+=c\n",
    "    return tmp\n",
    "\n",
    "def clean(AO):\n",
    "    cleaned_AbbOri = []\n",
    "    for p in AO:\n",
    "        cleaned_AbbOri.append([p[0],cleaning(p[1])])\n",
    "    return cleaned_AbbOri\n",
    "    \n",
    "# cleaned_AbbOri = []\n",
    "# for p in abb_ori:\n",
    "#     cleaned_AbbOri.append([p[0],cleaning(p[1])])\n",
    "    \n",
    "Cleaned_AbbOri_de = clean(abb_ori)\n",
    "\n",
    "# print(cleaned_AbbOri[:10])\n",
    "Cleaned_AbbOri_de[:10]"
   ]
  },
  {
   "cell_type": "code",
   "execution_count": 12,
   "metadata": {},
   "outputs": [
    {
     "data": {
      "text/plain": [
       "[['n', '言/g 之/u 无/v 文/g 行/v 之/u 不/d 远/a '], ['']]"
      ]
     },
     "execution_count": 12,
     "metadata": {},
     "output_type": "execute_result"
    }
   ],
   "source": [
    "AbbOri_tr[-2:]"
   ]
  },
  {
   "cell_type": "code",
   "execution_count": 13,
   "metadata": {},
   "outputs": [
    {
     "data": {
      "text/plain": [
       "[['n', '非/b 条件反射/l '], ['肃奸', '肃清/v 汉奸/n'], ['']]"
      ]
     },
     "execution_count": 13,
     "metadata": {},
     "output_type": "execute_result"
    }
   ],
   "source": [
    "AbbOri_te[-3:]"
   ]
  },
  {
   "cell_type": "code",
   "execution_count": 14,
   "metadata": {},
   "outputs": [],
   "source": [
    "Cleaned_AbbOri_tr = clean(AbbOri_tr[:-1])\n",
    "# for p in AbbOri_tr:\n",
    "#     Cleaned_AbbOri_tr.append([p[0],cleaning(p[1])])\n",
    "    \n",
    "Cleaned_AbbOri_te = clean(AbbOri_te[:-1])\n",
    "# for p in AbbOri_te:\n",
    "#     Cleaned_AbbOri_te.append([p[0],cleaning(p[1])])"
   ]
  },
  {
   "cell_type": "code",
   "execution_count": 15,
   "metadata": {},
   "outputs": [
    {
     "name": "stdout",
     "output_type": "stream",
     "text": [
      "1078\n",
      "7551\n",
      "7551\n"
     ]
    }
   ],
   "source": [
    "print(len(Cleaned_AbbOri_de))\n",
    "print(len(Cleaned_AbbOri_tr))\n",
    "print(len(Cleaned_AbbOri_tr))"
   ]
  },
  {
   "cell_type": "markdown",
   "metadata": {},
   "source": [
    "# Create tagged dataset for training abbreviation\n",
    "Tags: \n",
    "* A for characters used in abbreviation\n",
    "* N for characters not used in abbreviation"
   ]
  },
  {
   "cell_type": "code",
   "execution_count": 28,
   "metadata": {},
   "outputs": [],
   "source": [
    "def tag(cleaned_AbbOri):\n",
    "    Tagged_Abb = []\n",
    "    for p in cleaned_AbbOri:\n",
    "        tagged = []\n",
    "        for c in p[1]:\n",
    "            if c in p[0]:\n",
    "                tagged.append((c, 'A'))\n",
    "            else:\n",
    "                tagged.append((c,'N'))\n",
    "        Tagged_Abb.append(tagged)\n",
    "    return Tagged_Abb"
   ]
  },
  {
   "cell_type": "code",
   "execution_count": 29,
   "metadata": {},
   "outputs": [],
   "source": [
    "Tagged_dev = tag(Cleaned_AbbOri_de)\n",
    "Tagged_tr = tag(Cleaned_AbbOri_tr)\n",
    "Tagged_te = tag(Cleaned_AbbOri_te)"
   ]
  },
  {
   "cell_type": "code",
   "execution_count": 30,
   "metadata": {},
   "outputs": [
    {
     "data": {
      "text/plain": [
       "[('军', 'A'), ('队', 'N'), ('政', 'A'), ('府', 'N'), ('人', 'N'), ('民', 'A')]"
      ]
     },
     "execution_count": 30,
     "metadata": {},
     "output_type": "execute_result"
    }
   ],
   "source": [
    "Tagged_dev[0]"
   ]
  },
  {
   "cell_type": "code",
   "execution_count": 31,
   "metadata": {},
   "outputs": [
    {
     "data": {
      "text/plain": [
       "['军政民', '军队政府人民']"
      ]
     },
     "execution_count": 31,
     "metadata": {},
     "output_type": "execute_result"
    }
   ],
   "source": [
    "Cleaned_AbbOri_de[0]"
   ]
  },
  {
   "cell_type": "code",
   "execution_count": 32,
   "metadata": {},
   "outputs": [
    {
     "data": {
      "text/plain": [
       "[('历', 'N'), ('史', 'A'), ('和', 'N'), ('地', 'A'), ('理', 'N')]"
      ]
     },
     "execution_count": 32,
     "metadata": {},
     "output_type": "execute_result"
    }
   ],
   "source": [
    "Tagged_tr[0]"
   ]
  },
  {
   "cell_type": "code",
   "execution_count": 33,
   "metadata": {},
   "outputs": [
    {
     "data": {
      "text/plain": [
       "['史地', '历史和地理']"
      ]
     },
     "execution_count": 33,
     "metadata": {},
     "output_type": "execute_result"
    }
   ],
   "source": [
    "Cleaned_AbbOri_tr[0]"
   ]
  },
  {
   "cell_type": "code",
   "execution_count": 34,
   "metadata": {},
   "outputs": [
    {
     "data": {
      "text/plain": [
       "[('游', 'N'), ('泳', 'A'), ('协', 'A'), ('会', 'N')]"
      ]
     },
     "execution_count": 34,
     "metadata": {},
     "output_type": "execute_result"
    }
   ],
   "source": [
    "Tagged_te[0]"
   ]
  },
  {
   "cell_type": "code",
   "execution_count": 35,
   "metadata": {},
   "outputs": [
    {
     "data": {
      "text/plain": [
       "['泳协', '游泳协会']"
      ]
     },
     "execution_count": 35,
     "metadata": {},
     "output_type": "execute_result"
    }
   ],
   "source": [
    "Cleaned_AbbOri_te[0]"
   ]
  },
  {
   "cell_type": "code",
   "execution_count": 36,
   "metadata": {},
   "outputs": [],
   "source": [
    "import pickle\n",
    "pickle.dump(Tagged_dev, open('Tagged_dev.p', 'wb'))\n",
    "pickle.dump(Cleaned_AbbOri_de, open('Cleaned_AbbOri_de.p', 'wb'))\n",
    "\n",
    "pickle.dump(Tagged_tr, open('Tagged_tr.p', 'wb'))\n",
    "pickle.dump(Cleaned_AbbOri_tr, open('Cleaned_AbbOri_tr.p', 'wb'))\n",
    "\n",
    "pickle.dump(Tagged_te, open('Tagged_te.p', 'wb'))\n",
    "pickle.dump(Cleaned_AbbOri_te, open('Cleaned_AbbOri_te.p', 'wb'))"
   ]
  },
  {
   "cell_type": "code",
   "execution_count": 37,
   "metadata": {},
   "outputs": [
    {
     "data": {
      "text/plain": [
       "[('军', 'A'), ('队', 'N'), ('政', 'A'), ('府', 'N'), ('人', 'N'), ('民', 'A')]"
      ]
     },
     "execution_count": 37,
     "metadata": {},
     "output_type": "execute_result"
    }
   ],
   "source": [
    "loaded = pickle.load(open('Tagged_dev.p','rb'))\n",
    "loaded[0]"
   ]
  },
  {
   "cell_type": "code",
   "execution_count": null,
   "metadata": {},
   "outputs": [],
   "source": []
  }
 ],
 "metadata": {
  "kernelspec": {
   "display_name": "Python 3",
   "language": "python",
   "name": "python3"
  },
  "language_info": {
   "codemirror_mode": {
    "name": "ipython",
    "version": 3
   },
   "file_extension": ".py",
   "mimetype": "text/x-python",
   "name": "python",
   "nbconvert_exporter": "python",
   "pygments_lexer": "ipython3",
   "version": "3.8.3"
  }
 },
 "nbformat": 4,
 "nbformat_minor": 4
}
