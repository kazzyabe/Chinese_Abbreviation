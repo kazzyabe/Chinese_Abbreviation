{
 "cells": [
  {
   "cell_type": "markdown",
   "metadata": {},
   "source": [
    "# NLTK HMM training"
   ]
  },
  {
   "cell_type": "code",
   "execution_count": 1,
   "metadata": {},
   "outputs": [],
   "source": [
    "from nltk.tag import hmm\n",
    "trainer = hmm.HiddenMarkovModelTrainer()"
   ]
  },
  {
   "cell_type": "code",
   "execution_count": 2,
   "metadata": {},
   "outputs": [
    {
     "data": {
      "text/plain": [
       "[[('历', 'N'), ('史', 'A'), ('和', 'N'), ('地', 'A'), ('理', 'N')],\n",
       " [('正', 'A'), ('式', 'N'), ('选', 'A'), ('举', 'N')]]"
      ]
     },
     "execution_count": 2,
     "metadata": {},
     "output_type": "execute_result"
    }
   ],
   "source": [
    "import pickle \n",
    "Tagged_Abb = pickle.load(open('Tagged_tr.p','rb'))\n",
    "Tagged_Abb[:2]"
   ]
  },
  {
   "cell_type": "code",
   "execution_count": 3,
   "metadata": {},
   "outputs": [],
   "source": [
    "tagger = trainer.train_supervised(Tagged_Abb)"
   ]
  },
  {
   "cell_type": "code",
   "execution_count": 4,
   "metadata": {},
   "outputs": [],
   "source": [
    "cleaned_AbbOri = pickle.load(open('Cleaned_AbbOri_te.p','rb'))"
   ]
  },
  {
   "cell_type": "code",
   "execution_count": 5,
   "metadata": {},
   "outputs": [
    {
     "data": {
      "text/plain": [
       "['泳协', '游泳协会']"
      ]
     },
     "execution_count": 5,
     "metadata": {},
     "output_type": "execute_result"
    }
   ],
   "source": [
    "cleaned_AbbOri[0]"
   ]
  },
  {
   "cell_type": "code",
   "execution_count": 6,
   "metadata": {},
   "outputs": [],
   "source": [
    "def char_seg(t):\n",
    "    tmp = []\n",
    "    for c in t:\n",
    "        tmp.append(c)\n",
    "    return tmp"
   ]
  },
  {
   "cell_type": "code",
   "execution_count": 7,
   "metadata": {},
   "outputs": [
    {
     "data": {
      "text/plain": [
       "('游', 'N')"
      ]
     },
     "execution_count": 7,
     "metadata": {},
     "output_type": "execute_result"
    }
   ],
   "source": [
    "tagger.tag(char_seg(cleaned_AbbOri[0][1]))[0]"
   ]
  },
  {
   "cell_type": "code",
   "execution_count": 8,
   "metadata": {},
   "outputs": [],
   "source": [
    "Tagged_te = pickle.load(open('Tagged_te.p','rb'))"
   ]
  },
  {
   "cell_type": "code",
   "execution_count": 9,
   "metadata": {},
   "outputs": [
    {
     "data": {
      "text/plain": [
       "('游', 'N')"
      ]
     },
     "execution_count": 9,
     "metadata": {},
     "output_type": "execute_result"
    }
   ],
   "source": [
    "Tagged_te[0][0]"
   ]
  },
  {
   "cell_type": "code",
   "execution_count": 10,
   "metadata": {},
   "outputs": [
    {
     "data": {
      "text/plain": [
       "True"
      ]
     },
     "execution_count": 10,
     "metadata": {},
     "output_type": "execute_result"
    }
   ],
   "source": [
    "Tagged_te[0][0] == tagger.tag(char_seg(cleaned_AbbOri[0][1]))[0]"
   ]
  },
  {
   "cell_type": "code",
   "execution_count": 11,
   "metadata": {},
   "outputs": [],
   "source": [
    "def accuracy(tagger, cleaned, tagged):\n",
    "    correct = 0.0\n",
    "    total = 0.0\n",
    "    for i in range(len(cleaned)):\n",
    "        tag = tagger.tag(char_seg(cleaned[i][1]))\n",
    "        for j in range(len(tag)):\n",
    "            if tag[j] == tagged[i][j]:\n",
    "                correct += 1.0\n",
    "            total += 1.0\n",
    "    return correct/total"
   ]
  },
  {
   "cell_type": "code",
   "execution_count": 12,
   "metadata": {},
   "outputs": [
    {
     "data": {
      "text/plain": [
       "0.7889239737673063"
      ]
     },
     "execution_count": 12,
     "metadata": {},
     "output_type": "execute_result"
    }
   ],
   "source": [
    "# Accuracy on test\n",
    "accuracy(tagger, cleaned_AbbOri, Tagged_te)"
   ]
  },
  {
   "cell_type": "code",
   "execution_count": 13,
   "metadata": {},
   "outputs": [],
   "source": [
    "cleaned_AbbOri_tr = pickle.load(open('Cleaned_AbbOri_tr.p','rb'))\n",
    "Tagged_tr = pickle.load(open('Tagged_tr.p','rb'))"
   ]
  },
  {
   "cell_type": "code",
   "execution_count": 14,
   "metadata": {},
   "outputs": [
    {
     "data": {
      "text/plain": [
       "0.8021255537750966"
      ]
     },
     "execution_count": 14,
     "metadata": {},
     "output_type": "execute_result"
    }
   ],
   "source": [
    "# Accuracy on train\n",
    "accuracy(tagger, cleaned_AbbOri_tr, Tagged_tr)"
   ]
  },
  {
   "cell_type": "code",
   "execution_count": 15,
   "metadata": {},
   "outputs": [],
   "source": [
    "def result(tagger, cleaned):\n",
    "    ress = []\n",
    "    for c in cleaned:\n",
    "        tag = tagger.tag(char_seg(c[1]))\n",
    "        res = ''\n",
    "        for t in tag:\n",
    "            if t[1] == 'A':\n",
    "                res+=t[0]\n",
    "        c.append(res)\n",
    "        ress.append(c)\n",
    "    return ress"
   ]
  },
  {
   "cell_type": "code",
   "execution_count": 16,
   "metadata": {},
   "outputs": [],
   "source": [
    "res_te = result(tagger, cleaned_AbbOri)"
   ]
  },
  {
   "cell_type": "code",
   "execution_count": 19,
   "metadata": {},
   "outputs": [],
   "source": [
    "res_tr = result(tagger, cleaned_AbbOri_tr)"
   ]
  },
  {
   "cell_type": "raw",
   "metadata": {},
   "source": []
  },
  {
   "cell_type": "code",
   "execution_count": 18,
   "metadata": {},
   "outputs": [
    {
     "data": {
      "text/plain": [
       "[[('游', 'N'), ('泳', 'A'), ('协', 'A'), ('会', 'N')],\n",
       " [('市', 'N'), ('场', 'N'), ('需', 'N'), ('求', 'N'), ('分', 'N'), ('析', 'N')],\n",
       " [('要', 'N'), ('不', 'N'), ('然', 'N'), ('的', 'N'), ('话', 'N')],\n",
       " [('党', 'A'), ('务', 'N'), ('工', 'A'), ('作', 'N')],\n",
       " [('职', 'A'),\n",
       "  ('业', 'N'),\n",
       "  ('教', 'A'),\n",
       "  ('育', 'N'),\n",
       "  ('管', 'A'),\n",
       "  ('理', 'N'),\n",
       "  ('委', 'A'),\n",
       "  ('员', 'N'),\n",
       "  ('会', 'A')],\n",
       " [('机', 'A'),\n",
       "  ('关', 'A'),\n",
       "  ('管', 'N'),\n",
       "  ('理', 'N'),\n",
       "  ('委', 'A'),\n",
       "  ('员', 'N'),\n",
       "  ('会', 'N')],\n",
       " [('房', 'A'), ('屋', 'N'), ('贷', 'A'), ('款', 'N'), ('部', 'A')],\n",
       " [('二', 'N'), ('酯', 'N'), ('磺', 'N'), ('酸', 'N'), ('钠', 'N')],\n",
       " [('短', 'A'),\n",
       "  ('途', 'N'),\n",
       "  ('路', 'N'),\n",
       "  ('线', 'A'),\n",
       "  ('旅', 'N'),\n",
       "  ('游', 'N'),\n",
       "  ('团', 'A')],\n",
       " [('第', 'N'), ('5', 'A'), ('中', 'A'), ('学', 'N')]]"
      ]
     },
     "execution_count": 18,
     "metadata": {},
     "output_type": "execute_result"
    }
   ],
   "source": [
    "pickle.dump(res_tr, open('res_tr.p', 'wb'))\n",
    "pickle.dump(res_te, open('res_te.p', 'wb'))\n"
   ]
  },
  {
   "cell_type": "code",
   "execution_count": null,
   "metadata": {},
   "outputs": [],
   "source": []
  }
 ],
 "metadata": {
  "kernelspec": {
   "display_name": "Python 3",
   "language": "python",
   "name": "python3"
  },
  "language_info": {
   "codemirror_mode": {
    "name": "ipython",
    "version": 3
   },
   "file_extension": ".py",
   "mimetype": "text/x-python",
   "name": "python",
   "nbconvert_exporter": "python",
   "pygments_lexer": "ipython3",
   "version": "3.8.3"
  }
 },
 "nbformat": 4,
 "nbformat_minor": 4
}
